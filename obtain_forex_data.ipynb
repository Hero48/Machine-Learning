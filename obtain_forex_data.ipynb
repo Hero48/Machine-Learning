{
 "cells": [
  {
   "cell_type": "code",
   "execution_count": null,
   "id": "35c56a0c",
   "metadata": {},
   "outputs": [],
   "source": [
    "forex_pairs = [\"EURUSD=X\", \"USDJPY=X\", \"GBPUSD=X\", \"AUDUSD=X\", \"USDCHF=X\", \"USDCAD=X\", \"NZDUSD=X\", \"EURJPY=X\", \"EURGBP=X\", \"EURCHF=X\", \"EURCAD=X\", \"EURAUD=X\", \"GBPJPY=X\", \"GBPCHF=X\", \"GBPCAD=X\", \"GBPAUD=X\", \"AUDJPY=X\", \"AUDCHF=X\", \"CADJPY=X\", \"CADCHF=X\", \"NZDJPY=X\", \"NZDCHF=X\"]\n",
    "\n"
   ]
  },
  {
   "cell_type": "code",
   "execution_count": 22,
   "id": "2405ea17",
   "metadata": {
    "scrolled": true
   },
   "outputs": [
    {
     "name": "stdout",
     "output_type": "stream",
     "text": [
      "[*********************100%***********************]  1 of 1 completed\n",
      "[*********************100%***********************]  1 of 1 completed\n",
      "[*********************100%***********************]  1 of 1 completed\n",
      "[*********************100%***********************]  1 of 1 completed\n",
      "[*********************100%***********************]  1 of 1 completed\n",
      "[*********************100%***********************]  1 of 1 completed\n",
      "[*********************100%***********************]  1 of 1 completed\n",
      "[*********************100%***********************]  1 of 1 completed\n",
      "[*********************100%***********************]  1 of 1 completed\n",
      "[*********************100%***********************]  1 of 1 completed\n",
      "[*********************100%***********************]  1 of 1 completed\n",
      "[*********************100%***********************]  1 of 1 completed\n",
      "[*********************100%***********************]  1 of 1 completed\n",
      "[*********************100%***********************]  1 of 1 completed\n",
      "[*********************100%***********************]  1 of 1 completed\n",
      "[*********************100%***********************]  1 of 1 completed\n",
      "[*********************100%***********************]  1 of 1 completed\n",
      "[*********************100%***********************]  1 of 1 completed\n",
      "[*********************100%***********************]  1 of 1 completed\n",
      "[*********************100%***********************]  1 of 1 completed\n",
      "[*********************100%***********************]  1 of 1 completed\n",
      "[*********************100%***********************]  1 of 1 completed\n",
      "Done\n"
     ]
    }
   ],
   "source": [
    "import yfinance as yf\n",
    "import pandas as pd\n",
    "# Define the ticker symbol for the forex pair you want to fetch data for\n",
    "\n",
    "# Fetch data for the all  ticker symbol in the list\n",
    "for pair in forex_pairs:   \n",
    "    data = pd.DataFrame(yf.download(pair, period=\"7d\", interval='1m'))\n",
    "\n",
    "    data.to_csv(f'forex_data_1m/{pair}.csv')\n",
    "\n",
    "print('Done')\n"
   ]
  }
 ],
 "metadata": {
  "kernelspec": {
   "display_name": "Python 3 (ipykernel)",
   "language": "python",
   "name": "python3"
  },
  "language_info": {
   "codemirror_mode": {
    "name": "ipython",
    "version": 3
   },
   "file_extension": ".py",
   "mimetype": "text/x-python",
   "name": "python",
   "nbconvert_exporter": "python",
   "pygments_lexer": "ipython3",
   "version": "3.9.2"
  }
 },
 "nbformat": 4,
 "nbformat_minor": 5
}
